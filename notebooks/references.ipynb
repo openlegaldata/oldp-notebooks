{
 "cells": [
  {
   "cell_type": "markdown",
   "metadata": {},
   "source": [
    "# Citation Analysis for Court Decisions\n",
    "\n",
    "Court decisions heavily depend on citations to either other decisions or laws (literature as well, but we do not have any data not that). Thus, citations are an interesting resource for information.\n",
    "\n",
    "In the following we demontrate how you can use the references dump for analysis.\n",
    "\n",
    "Some ideas:\n",
    "- Most used § by year, court, jurisdiction, ...\n",
    "- Most cited cases\n",
    "- Citation heavy jurisdictions\n",
    "\n",
    "### Install the following dependencies:\n",
    "\n",
    "Use your package manager to install the following dependencies (pip, pipenv, conda, ...):\n",
    "\n",
    "```\n",
    "pandas\n",
    "seaborn\n",
    "matplotlib\n",
    "```\n",
    "\n",
    "### Download data\n",
    "\n",
    "First we download the data from our dump server and then decompress the file.\n",
    "\n",
    "```\n",
    "wget https://static.openlegaldata.io/dumps/de/refs/refs.csv.gz\n",
    "gzip -d refs.csv.gz\n",
    "```\n",
    "\n",
    "The decompress CSV file should contain around 444k rows:\n",
    "\n",
    "```\n",
    "$ wc -l refs.csv \n",
    "444034 refs.csv\n",
    "```"
   ]
  },
  {
   "cell_type": "code",
   "execution_count": 3,
   "metadata": {},
   "outputs": [],
   "source": [
    "import pandas as pd\n",
    "import seaborn as sns\n",
    "import matplotlib.pyplot as plt\n",
    "import dateutil\n",
    "import os"
   ]
  },
  {
   "cell_type": "code",
   "execution_count": 8,
   "metadata": {},
   "outputs": [],
   "source": [
    "# Change this to your data directory\n",
    "data_dir = '../../data'"
   ]
  },
  {
   "cell_type": "markdown",
   "metadata": {},
   "source": [
    "## Load data\n",
    "\n",
    "To get started we load the CSV file as pandas dataframe."
   ]
  },
  {
   "cell_type": "code",
   "execution_count": 9,
   "metadata": {},
   "outputs": [],
   "source": [
    "# All the columns\n",
    "fields = 'from_case_court_chamber,from_case_court_city,from_case_court_id,from_case_court_jurisdiction,from_case_court_level_of_appeal,from_case_court_name,from_case_court_state,from_case_date,from_case_file_number,from_case_private,from_case_source_name,from_case_type,from_id,from_type,to_case_court_jurisdiction,to_case_court_level_of_appeal,to_case_court_name,to_id,to_law_book_code,to_law_section,to_law_title,to_type'.split(',')\n",
    "\n",
    "# Define data types\n",
    "dtype = {\n",
    "    'from_case_court_chamber': str, \n",
    "    'from_case_court_city': str, \n",
    "    'from_case_court_id': int, \n",
    "    'from_case_court_jurisdiction': str, \n",
    "    'from_case_court_level_of_appeal': str, \n",
    "    'from_case_court_name': str, \n",
    "    'from_case_court_state': str, \n",
    "    'from_case_date': str,\n",
    "    'from_case_file_number': str, \n",
    "    'from_case_private': bool, \n",
    "    'from_case_source_name': str, \n",
    "    'from_case_type': str, \n",
    "    'from_id': int,\n",
    "    'from_type': str, \n",
    "    'to_case_court_jurisdiction': str, \n",
    "    'to_case_court_level_of_appeal': str, \n",
    "    'to_case_court_name': str, \n",
    "    'to_id': int, \n",
    "    'to_law_book_code': str, \n",
    "    'to_law_section': str, \n",
    "    'to_type': str\n",
    "}\n",
    "\n",
    "# Load as dataframe\n",
    "df = pd.read_csv(os.path.join(data_dir, 'refs.csv'), \n",
    "                 dtype=dtype, \n",
    "                 usecols=[\n",
    "                     # We do not need all the columns\n",
    "                     'to_law_book_code', \n",
    "                     'to_law_section', \n",
    "                     'from_case_court_jurisdiction', \n",
    "                     'from_case_court_state'\n",
    "                 ]\n",
    "                )\n"
   ]
  },
  {
   "cell_type": "code",
   "execution_count": 10,
   "metadata": {},
   "outputs": [
    {
     "data": {
      "text/html": [
       "<div>\n",
       "<style scoped>\n",
       "    .dataframe tbody tr th:only-of-type {\n",
       "        vertical-align: middle;\n",
       "    }\n",
       "\n",
       "    .dataframe tbody tr th {\n",
       "        vertical-align: top;\n",
       "    }\n",
       "\n",
       "    .dataframe thead th {\n",
       "        text-align: right;\n",
       "    }\n",
       "</style>\n",
       "<table border=\"1\" class=\"dataframe\">\n",
       "  <thead>\n",
       "    <tr style=\"text-align: right;\">\n",
       "      <th></th>\n",
       "      <th>from_case_court_jurisdiction</th>\n",
       "      <th>from_case_court_state</th>\n",
       "      <th>to_law_book_code</th>\n",
       "      <th>to_law_section</th>\n",
       "    </tr>\n",
       "  </thead>\n",
       "  <tbody>\n",
       "    <tr>\n",
       "      <th>0</th>\n",
       "      <td>Ordentliche Gerichtsbarkeit</td>\n",
       "      <td>Bayern</td>\n",
       "      <td>BGB</td>\n",
       "      <td>§ 2</td>\n",
       "    </tr>\n",
       "    <tr>\n",
       "      <th>1</th>\n",
       "      <td>Ordentliche Gerichtsbarkeit</td>\n",
       "      <td>Bayern</td>\n",
       "      <td>BGB</td>\n",
       "      <td>§ 281</td>\n",
       "    </tr>\n",
       "    <tr>\n",
       "      <th>2</th>\n",
       "      <td>Ordentliche Gerichtsbarkeit</td>\n",
       "      <td>Bayern</td>\n",
       "      <td>BGB</td>\n",
       "      <td>§ 440</td>\n",
       "    </tr>\n",
       "    <tr>\n",
       "      <th>3</th>\n",
       "      <td>Ordentliche Gerichtsbarkeit</td>\n",
       "      <td>Bayern</td>\n",
       "      <td>ZPO</td>\n",
       "      <td>§ 32</td>\n",
       "    </tr>\n",
       "    <tr>\n",
       "      <th>4</th>\n",
       "      <td>Ordentliche Gerichtsbarkeit</td>\n",
       "      <td>Bayern</td>\n",
       "      <td>BGB</td>\n",
       "      <td>§ 826</td>\n",
       "    </tr>\n",
       "  </tbody>\n",
       "</table>\n",
       "</div>"
      ],
      "text/plain": [
       "  from_case_court_jurisdiction from_case_court_state to_law_book_code  \\\n",
       "0  Ordentliche Gerichtsbarkeit                Bayern              BGB   \n",
       "1  Ordentliche Gerichtsbarkeit                Bayern              BGB   \n",
       "2  Ordentliche Gerichtsbarkeit                Bayern              BGB   \n",
       "3  Ordentliche Gerichtsbarkeit                Bayern              ZPO   \n",
       "4  Ordentliche Gerichtsbarkeit                Bayern              BGB   \n",
       "\n",
       "  to_law_section  \n",
       "0            § 2  \n",
       "1          § 281  \n",
       "2          § 440  \n",
       "3           § 32  \n",
       "4          § 826  "
      ]
     },
     "execution_count": 10,
     "metadata": {},
     "output_type": "execute_result"
    }
   ],
   "source": [
    "# Lets have look at the data\n",
    "df.head()"
   ]
  },
  {
   "cell_type": "markdown",
   "metadata": {},
   "source": [
    "## Visualize data\n",
    "\n",
    "These are some example for what you could do with the data:"
   ]
  },
  {
   "cell_type": "code",
   "execution_count": 11,
   "metadata": {},
   "outputs": [
    {
     "data": {
      "image/png": "[encoded data removed]",
      "text/plain": [
       "<Figure size 432x288 with 1 Axes>"
      ]
     },
     "metadata": {
      "needs_background": "light"
     },
     "output_type": "display_data"
    }
   ],
   "source": [
    "# What law books are cited most often?\n",
    "sns.countplot(y=\"to_law_book_code\", data=df,\n",
    "              order=df['to_law_book_code'].value_counts().iloc[:20].index);\n"
   ]
  },
  {
   "cell_type": "code",
   "execution_count": 12,
   "metadata": {},
   "outputs": [
    {
     "data": {
      "image/png": "[encoded data removed]",
      "text/plain": [
       "<Figure size 432x288 with 1 Axes>"
      ]
     },
     "metadata": {
      "needs_background": "light"
     },
     "output_type": "display_data"
    }
   ],
   "source": [
    "# Citing states\n",
    "sns.countplot(y='from_case_court_state', data=df,\n",
    "              order=df['from_case_court_state'].value_counts().iloc[:20].index);\n"
   ]
  },
  {
   "cell_type": "code",
   "execution_count": 70,
   "metadata": {},
   "outputs": [
    {
     "data": {
      "image/png": "[encoded data removed]",
      "text/plain": [
       "<Figure size 432x288 with 1 Axes>"
      ]
     },
     "metadata": {},
     "output_type": "display_data"
    }
   ],
   "source": [
    "# Citing jurisdiction\n",
    "sns.countplot(y='from_case_court_jurisdiction', data=df,\n",
    "              order=df['from_case_court_jurisdiction'].value_counts().iloc[:20].index);\n"
   ]
  },
  {
   "cell_type": "markdown",
   "metadata": {},
   "source": [
    "### Contribute\n",
    "\n",
    "Questions? Comments? Want to tell us about the cool stuff you've built with our API? Get in touch. \n",
    "\n",
    "- Web: https://openlegaldata.io\n",
    "- GitHub: https://github.com/openlegaldata/"
   ]
  },
  {
   "cell_type": "code",
   "execution_count": null,
   "metadata": {},
   "outputs": [],
   "source": []
  }
 ],
 "metadata": {
  "kernelspec": {
   "display_name": "Python 3",
   "language": "python",
   "name": "python3"
  },
  "language_info": {
   "codemirror_mode": {
    "name": "ipython",
    "version": 3
   },
   "file_extension": ".py",
   "mimetype": "text/x-python",
   "name": "python",
   "nbconvert_exporter": "python",
   "pygments_lexer": "ipython3",
   "version": "3.7.1"
  }
 },
 "nbformat": 4,
 "nbformat_minor": 2
}
